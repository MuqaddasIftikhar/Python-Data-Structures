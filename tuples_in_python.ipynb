{
 "cells": [
  {
   "cell_type": "markdown",
   "metadata": {},
   "source": [
    "# Tuples "
   ]
  },
  {
   "cell_type": "code",
   "execution_count": 4,
   "metadata": {},
   "outputs": [
    {
     "name": "stdout",
     "output_type": "stream",
     "text": [
      "('cat', 'lion', 'deer', 'dog')\n",
      "<class 'tuple'>\n",
      "4\n"
     ]
    }
   ],
   "source": [
    "animals=(\"cat\", \"lion\", \"deer\", \"dog\")\n",
    "print(animals)\n",
    "print(type(animals))\n",
    "print(len(animals))"
   ]
  },
  {
   "cell_type": "markdown",
   "metadata": {},
   "source": [
    "# Count Function:"
   ]
  },
  {
   "cell_type": "code",
   "execution_count": 6,
   "metadata": {},
   "outputs": [
    {
     "name": "stdout",
     "output_type": "stream",
     "text": [
      "('cat', 'lion', 'deer', 'dog')\n",
      "1\n",
      "('cat', 'lion', 'deer', 'dog')\n"
     ]
    }
   ],
   "source": [
    "animals=(\"cat\", \"lion\", \"deer\", \"dog\")\n",
    "print(animals)\n",
    "print(animals.count(\"cat\"))\n",
    "print(animals)"
   ]
  },
  {
   "cell_type": "markdown",
   "metadata": {},
   "source": [
    "# Index Function:"
   ]
  },
  {
   "cell_type": "code",
   "execution_count": 8,
   "metadata": {},
   "outputs": [
    {
     "name": "stdout",
     "output_type": "stream",
     "text": [
      "('cat', 'lion', 'deer', 'dog')\n",
      "1\n"
     ]
    }
   ],
   "source": [
    "animals=(\"cat\", \"lion\", \"deer\", \"dog\")\n",
    "print(animals)\n",
    "print(animals.index(\"lion\"))\n",
    "\n"
   ]
  },
  {
   "cell_type": "markdown",
   "metadata": {},
   "source": [
    "# Print Function:"
   ]
  },
  {
   "cell_type": "code",
   "execution_count": 9,
   "metadata": {},
   "outputs": [
    {
     "name": "stdout",
     "output_type": "stream",
     "text": [
      "('cat', 'lion', 'deer', 'dog')\n",
      "('cat', 'lion', 'deer', 'dog')\n"
     ]
    }
   ],
   "source": [
    "animals=(\"cat\", \"lion\", \"deer\", \"dog\")\n",
    "print(animals)\n",
    "print(animals)"
   ]
  }
 ],
 "metadata": {
  "kernelspec": {
   "display_name": "base",
   "language": "python",
   "name": "python3"
  },
  "language_info": {
   "codemirror_mode": {
    "name": "ipython",
    "version": 3
   },
   "file_extension": ".py",
   "mimetype": "text/x-python",
   "name": "python",
   "nbconvert_exporter": "python",
   "pygments_lexer": "ipython3",
   "version": "3.10.9"
  },
  "orig_nbformat": 4
 },
 "nbformat": 4,
 "nbformat_minor": 2
}
