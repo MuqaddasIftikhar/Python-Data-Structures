{
 "cells": [
  {
   "cell_type": "markdown",
   "metadata": {},
   "source": [
    "# Dictionaries"
   ]
  },
  {
   "cell_type": "code",
   "execution_count": 4,
   "metadata": {},
   "outputs": [
    {
     "name": "stdout",
     "output_type": "stream",
     "text": [
      "{'cat': 3, 'lion': 1, 'deer': 2, 'dog': 3}\n",
      "<class 'dict'>\n",
      "4\n"
     ]
    }
   ],
   "source": [
    "animals={\"cat\":3, \n",
    "         \"lion\":1,\n",
    "         \"deer\":2,\n",
    "         \"dog\":3}\n",
    "print(animals)\n",
    "print(type(animals))\n",
    "print(len(animals))"
   ]
  },
  {
   "cell_type": "markdown",
   "metadata": {},
   "source": [
    "# Clear Function:"
   ]
  },
  {
   "cell_type": "code",
   "execution_count": 7,
   "metadata": {},
   "outputs": [
    {
     "name": "stdout",
     "output_type": "stream",
     "text": [
      "{'cat': 3, 'lion': 1, 'deer': 2, 'dog': 3}\n",
      "None\n",
      "{}\n"
     ]
    }
   ],
   "source": [
    "animals={\"cat\":3, \n",
    "         \"lion\":1,\n",
    "         \"deer\":2,\n",
    "         \"dog\":3}\n",
    "print(animals)\n",
    "print(animals.clear())\n",
    "print(animals)"
   ]
  },
  {
   "cell_type": "markdown",
   "metadata": {},
   "source": [
    "# Copy Function:"
   ]
  },
  {
   "cell_type": "code",
   "execution_count": 9,
   "metadata": {},
   "outputs": [
    {
     "name": "stdout",
     "output_type": "stream",
     "text": [
      "{'cat': 3, 'lion': 1, 'deer': 2, 'dog': 3}\n",
      "{'cat': 3, 'lion': 1, 'deer': 2, 'dog': 3}\n",
      "{'cat': 3, 'lion': 1, 'deer': 2, 'dog': 3}\n"
     ]
    }
   ],
   "source": [
    "animals={\"cat\":3, \n",
    "         \"lion\":1,\n",
    "         \"deer\":2,\n",
    "         \"dog\":3}\n",
    "print(animals)\n",
    "print(animals.copy())\n",
    "print(animals)"
   ]
  },
  {
   "cell_type": "markdown",
   "metadata": {},
   "source": [
    "# fromKeys Function:"
   ]
  },
  {
   "cell_type": "code",
   "execution_count": 14,
   "metadata": {},
   "outputs": [
    {
     "name": "stdout",
     "output_type": "stream",
     "text": [
      "{'cat': 3, 'lion': 1, 'deer': 2, 'dog': 3}\n",
      "{'l': None, 'i': None, 'o': None, 'n': None}\n",
      "{'cat': 3, 'lion': 1, 'deer': 2, 'dog': 3}\n"
     ]
    }
   ],
   "source": [
    "animals={\"cat\":3, \n",
    "         \"lion\":1,\n",
    "         \"deer\":2,\n",
    "         \"dog\":3}\n",
    "print(animals)\n",
    "print(animals.fromkeys(\"lion\"))\n",
    "print(animals)"
   ]
  },
  {
   "cell_type": "markdown",
   "metadata": {},
   "source": [
    "# get Function:"
   ]
  },
  {
   "cell_type": "code",
   "execution_count": 17,
   "metadata": {},
   "outputs": [
    {
     "name": "stdout",
     "output_type": "stream",
     "text": [
      "{'cat': 3, 'lion': 1, 'deer': 2, 'dog': 3}\n",
      "2\n",
      "{'cat': 3, 'lion': 1, 'deer': 2, 'dog': 3}\n"
     ]
    }
   ],
   "source": [
    "animals={\"cat\":3, \n",
    "         \"lion\":1,\n",
    "         \"deer\":2,\n",
    "         \"dog\":3}\n",
    "print(animals)\n",
    "print(animals.get(\"deer\"))\n",
    "print(animals)"
   ]
  },
  {
   "cell_type": "markdown",
   "metadata": {},
   "source": [
    "# item Function:"
   ]
  },
  {
   "cell_type": "code",
   "execution_count": 19,
   "metadata": {},
   "outputs": [
    {
     "name": "stdout",
     "output_type": "stream",
     "text": [
      "dict_items([('cat', 3), ('lion', 1), ('deer', 2), ('dog', 3)])\n"
     ]
    }
   ],
   "source": [
    "animals={\"cat\":3, \n",
    "         \"lion\":1,\n",
    "         \"deer\":2,\n",
    "         \"dog\":3}\n",
    "print(animals.items())\n"
   ]
  },
  {
   "cell_type": "markdown",
   "metadata": {},
   "source": [
    "# POP Function:"
   ]
  },
  {
   "cell_type": "code",
   "execution_count": 23,
   "metadata": {},
   "outputs": [
    {
     "name": "stdout",
     "output_type": "stream",
     "text": [
      "3\n",
      "{'cat': 3, 'lion': 1, 'deer': 2}\n"
     ]
    }
   ],
   "source": [
    "animals={\"cat\":3, \n",
    "         \"lion\":1,\n",
    "         \"deer\":2,\n",
    "         \"dog\":3}\n",
    "print(animals.pop(\"dog\"))\n",
    "print(animals)\n"
   ]
  },
  {
   "cell_type": "markdown",
   "metadata": {},
   "source": [
    "# popitem Function:"
   ]
  },
  {
   "cell_type": "code",
   "execution_count": 26,
   "metadata": {},
   "outputs": [
    {
     "name": "stdout",
     "output_type": "stream",
     "text": [
      "('dog', 3)\n",
      "{'cat': 3, 'lion': 1, 'deer': 2}\n"
     ]
    }
   ],
   "source": [
    "animals={\"cat\":3, \n",
    "         \"lion\":1,\n",
    "         \"deer\":2,\n",
    "         \"dog\":3}\n",
    "print(animals.popitem())\n",
    "print(animals)"
   ]
  },
  {
   "cell_type": "markdown",
   "metadata": {},
   "source": [
    "# setDefault Function:"
   ]
  },
  {
   "cell_type": "code",
   "execution_count": 29,
   "metadata": {},
   "outputs": [
    {
     "name": "stdout",
     "output_type": "stream",
     "text": [
      "1\n",
      "{'cat': 3, 'lion': 1, 'deer': 2, 'dog': 3}\n"
     ]
    }
   ],
   "source": [
    "animals={\"cat\":3, \n",
    "         \"lion\":1,\n",
    "         \"deer\":2,\n",
    "         \"dog\":3}\n",
    "print(animals.setdefault(\"lion\"))\n",
    "print(animals)"
   ]
  },
  {
   "cell_type": "markdown",
   "metadata": {},
   "source": [
    "# Update Function:"
   ]
  },
  {
   "cell_type": "code",
   "execution_count": 36,
   "metadata": {},
   "outputs": [
    {
     "name": "stdout",
     "output_type": "stream",
     "text": [
      "None\n",
      "{'cat': 3, 'lion': 1, 'deer': 2, 'dog': 3}\n"
     ]
    }
   ],
   "source": [
    "animals={\"cat\":3, \n",
    "         \"lion\":1,\n",
    "         \"deer\":2,\n",
    "         \"dog\":3}\n",
    "print(animals.update())\n",
    "print(animals)"
   ]
  },
  {
   "cell_type": "markdown",
   "metadata": {},
   "source": [
    "# Value Function:"
   ]
  },
  {
   "cell_type": "code",
   "execution_count": 39,
   "metadata": {},
   "outputs": [
    {
     "name": "stdout",
     "output_type": "stream",
     "text": [
      "dict_values([3, 1, 2, 3])\n",
      "dict_items([('cat', 3), ('lion', 1), ('deer', 2), ('dog', 3)])\n",
      "dict_keys(['cat', 'lion', 'deer', 'dog'])\n"
     ]
    }
   ],
   "source": [
    "animals={\"cat\":3, \n",
    "         \"lion\":1,\n",
    "         \"deer\":2,\n",
    "         \"dog\":3}\n",
    "print(animals.values())\n",
    "print(animals.items())\n",
    "print(animals.keys())"
   ]
  }
 ],
 "metadata": {
  "kernelspec": {
   "display_name": "base",
   "language": "python",
   "name": "python3"
  },
  "language_info": {
   "codemirror_mode": {
    "name": "ipython",
    "version": 3
   },
   "file_extension": ".py",
   "mimetype": "text/x-python",
   "name": "python",
   "nbconvert_exporter": "python",
   "pygments_lexer": "ipython3",
   "version": "3.10.9"
  },
  "orig_nbformat": 4
 },
 "nbformat": 4,
 "nbformat_minor": 2
}
