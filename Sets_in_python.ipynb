{
 "cells": [
  {
   "cell_type": "markdown",
   "metadata": {},
   "source": [
    "# Sets"
   ]
  },
  {
   "cell_type": "code",
   "execution_count": 4,
   "metadata": {},
   "outputs": [
    {
     "name": "stdout",
     "output_type": "stream",
     "text": [
      "{'cat', 'deer', 'lion', 'dog'}\n",
      "<class 'set'>\n",
      "4\n"
     ]
    }
   ],
   "source": [
    "animals={\"cat\", \"lion\", \"deer\", \"dog\"}\n",
    "print(animals)\n",
    "print(type(animals))\n",
    "print(len(animals))"
   ]
  },
  {
   "cell_type": "markdown",
   "metadata": {},
   "source": [
    "# Add Function:"
   ]
  },
  {
   "cell_type": "code",
   "execution_count": 8,
   "metadata": {},
   "outputs": [
    {
     "name": "stdout",
     "output_type": "stream",
     "text": [
      "{'cat', 'deer', 'lion', 'dog'}\n",
      "None\n",
      "{'lion', 'dog', 'turtle', 'deer', 'cat'}\n"
     ]
    }
   ],
   "source": [
    "animals={\"cat\", \"lion\", \"deer\", \"dog\"}\n",
    "print(animals)\n",
    "print(animals.add(\"turtle\"))\n",
    "print(animals)\n"
   ]
  },
  {
   "cell_type": "markdown",
   "metadata": {},
   "source": [
    "# Clear Function:"
   ]
  },
  {
   "cell_type": "code",
   "execution_count": 10,
   "metadata": {},
   "outputs": [
    {
     "name": "stdout",
     "output_type": "stream",
     "text": [
      "{'cat', 'deer', 'lion', 'dog'}\n",
      "None\n",
      "set()\n"
     ]
    }
   ],
   "source": [
    "animals={\"cat\", \"lion\", \"deer\", \"dog\"}\n",
    "print(animals)\n",
    "print(animals.clear())\n",
    "print(animals)"
   ]
  },
  {
   "cell_type": "markdown",
   "metadata": {},
   "source": [
    "# Copy Function:"
   ]
  },
  {
   "cell_type": "code",
   "execution_count": 15,
   "metadata": {},
   "outputs": [
    {
     "name": "stdout",
     "output_type": "stream",
     "text": [
      "{'cat', 'deer', 'lion', 'dog'}\n",
      "{'cat', 'deer', 'lion', 'dog'}\n",
      "{'cat', 'deer', 'lion', 'dog'}\n"
     ]
    }
   ],
   "source": [
    "animals={\"cat\", \"lion\", \"deer\", \"dog\"}\n",
    "print(animals)\n",
    "print(animals.copy())\n",
    "print(animals)"
   ]
  },
  {
   "cell_type": "markdown",
   "metadata": {},
   "source": [
    "# Difference Function:"
   ]
  },
  {
   "cell_type": "code",
   "execution_count": 22,
   "metadata": {},
   "outputs": [
    {
     "name": "stdout",
     "output_type": "stream",
     "text": [
      "{'cat', 'deer', 'lion', 'dog'}\n",
      "{'cat', 'deer', 'lion', 'dog'}\n",
      "{'cat', 'deer', 'lion', 'dog'}\n"
     ]
    }
   ],
   "source": [
    "animals={\"cat\", \"lion\", \"deer\", \"dog\"}\n",
    "print(animals)\n",
    "print(animals.difference(\"turtle\"))\n",
    "print(animals)"
   ]
  },
  {
   "cell_type": "markdown",
   "metadata": {},
   "source": [
    "# difference Update Function:"
   ]
  },
  {
   "cell_type": "code",
   "execution_count": 25,
   "metadata": {},
   "outputs": [
    {
     "name": "stdout",
     "output_type": "stream",
     "text": [
      "{'cat', 'deer', 'lion', 'dog'}\n",
      "None\n",
      "{'cat', 'deer', 'lion', 'dog'}\n"
     ]
    }
   ],
   "source": [
    "animals={\"cat\", \"lion\", \"deer\", \"dog\"}\n",
    "print(animals)\n",
    "print(animals.difference_update(\"turtle\"))\n",
    "print(animals)\n"
   ]
  },
  {
   "cell_type": "markdown",
   "metadata": {},
   "source": [
    "# Discard Function:"
   ]
  },
  {
   "cell_type": "code",
   "execution_count": 27,
   "metadata": {},
   "outputs": [
    {
     "name": "stdout",
     "output_type": "stream",
     "text": [
      "{'cat', 'deer', 'lion', 'dog'}\n",
      "None\n",
      "{'cat', 'deer', 'dog'}\n"
     ]
    }
   ],
   "source": [
    "animals={\"cat\", \"lion\", \"deer\", \"dog\"}\n",
    "print(animals)\n",
    "print(animals.discard(\"lion\"))\n",
    "print(animals)"
   ]
  },
  {
   "cell_type": "markdown",
   "metadata": {},
   "source": [
    "# Intersection Function:"
   ]
  },
  {
   "cell_type": "code",
   "execution_count": 31,
   "metadata": {},
   "outputs": [
    {
     "name": "stdout",
     "output_type": "stream",
     "text": [
      "{'cat', 'deer', 'lion', 'dog'}\n",
      "{'cat', 'deer', 'lion', 'dog'}\n",
      "{'cat', 'deer', 'lion', 'dog'}\n"
     ]
    }
   ],
   "source": [
    "animals={\"cat\", \"lion\", \"deer\", \"dog\"}\n",
    "print(animals)\n",
    "print(animals.intersection())\n",
    "print(animals)"
   ]
  },
  {
   "cell_type": "markdown",
   "metadata": {},
   "source": [
    "# Union Function:"
   ]
  },
  {
   "cell_type": "code",
   "execution_count": 32,
   "metadata": {},
   "outputs": [
    {
     "name": "stdout",
     "output_type": "stream",
     "text": [
      "{'cat', 'deer', 'lion', 'dog'}\n",
      "{'cat', 'deer', 'lion', 'dog'}\n"
     ]
    }
   ],
   "source": [
    "animals={\"cat\", \"lion\", \"deer\", \"dog\"}\n",
    "print(animals)\n",
    "print(animals.union())"
   ]
  },
  {
   "cell_type": "markdown",
   "metadata": {},
   "source": [
    "# Intersection Update Function:"
   ]
  },
  {
   "cell_type": "code",
   "execution_count": 36,
   "metadata": {},
   "outputs": [
    {
     "name": "stdout",
     "output_type": "stream",
     "text": [
      "{'cat', 'deer', 'lion', 'dog'}\n",
      "None\n",
      "set()\n"
     ]
    }
   ],
   "source": [
    "animals={\"cat\", \"lion\", \"deer\", \"dog\"}\n",
    "print(animals)\n",
    "print(animals.intersection_update(\"cat\"))\n",
    "print(animals)\n"
   ]
  },
  {
   "cell_type": "markdown",
   "metadata": {},
   "source": [
    "# isDisjoint Function:"
   ]
  },
  {
   "cell_type": "code",
   "execution_count": 41,
   "metadata": {},
   "outputs": [
    {
     "name": "stdout",
     "output_type": "stream",
     "text": [
      "{'cat', 'deer', 'lion', 'dog'}\n",
      "True\n",
      "{'cat', 'deer', 'lion', 'dog'}\n"
     ]
    }
   ],
   "source": [
    "animals={\"cat\", \"lion\", \"deer\", \"dog\"}\n",
    "print(animals)\n",
    "print(animals.isdisjoint(\"tiger\"))\n",
    "print(animals)"
   ]
  },
  {
   "cell_type": "markdown",
   "metadata": {},
   "source": [
    "# isSubset Function:"
   ]
  },
  {
   "cell_type": "code",
   "execution_count": 46,
   "metadata": {},
   "outputs": [
    {
     "name": "stdout",
     "output_type": "stream",
     "text": [
      "{'cat', 'deer', 'lion', 'dog'}\n",
      "False\n",
      "{'cat', 'deer', 'lion', 'dog'}\n"
     ]
    }
   ],
   "source": [
    "animals={\"cat\", \"lion\", \"deer\", \"dog\"}\n",
    "print(animals)\n",
    "print(animals.issubset(\"turtle\"))\n",
    "print(animals)"
   ]
  },
  {
   "cell_type": "markdown",
   "metadata": {},
   "source": [
    "# isSueprSet Function:"
   ]
  },
  {
   "cell_type": "code",
   "execution_count": 49,
   "metadata": {},
   "outputs": [
    {
     "name": "stdout",
     "output_type": "stream",
     "text": [
      "{'cat', 'deer', 'lion', 'dog'}\n",
      "False\n",
      "{'cat', 'deer', 'lion', 'dog'}\n"
     ]
    }
   ],
   "source": [
    "animals={\"cat\", \"lion\", \"deer\", \"dog\"}\n",
    "print(animals)\n",
    "print(animals.issuperset(\"lion\"))\n",
    "print(animals)"
   ]
  },
  {
   "cell_type": "markdown",
   "metadata": {},
   "source": [
    "# POP Function:"
   ]
  },
  {
   "cell_type": "code",
   "execution_count": 54,
   "metadata": {},
   "outputs": [
    {
     "name": "stdout",
     "output_type": "stream",
     "text": [
      "{'cat', 'deer', 'lion', 'dog'}\n",
      "cat\n",
      "{'deer', 'lion', 'dog'}\n"
     ]
    }
   ],
   "source": [
    "animals={\"cat\", \"lion\", \"deer\", \"dog\"}\n",
    "print(animals)\n",
    "print(animals.pop())\n",
    "print(animals)"
   ]
  },
  {
   "cell_type": "markdown",
   "metadata": {},
   "source": [
    "# Remove Function:"
   ]
  },
  {
   "cell_type": "code",
   "execution_count": 57,
   "metadata": {},
   "outputs": [
    {
     "name": "stdout",
     "output_type": "stream",
     "text": [
      "{'cat', 'deer', 'lion', 'dog'}\n",
      "None\n",
      "{'cat', 'deer', 'dog'}\n"
     ]
    }
   ],
   "source": [
    "animals={\"cat\", \"lion\", \"deer\", \"dog\"}\n",
    "print(animals)\n",
    "print(animals.remove(\"lion\"))\n",
    "print(animals)"
   ]
  },
  {
   "cell_type": "markdown",
   "metadata": {},
   "source": [
    "# Update Function:"
   ]
  },
  {
   "cell_type": "code",
   "execution_count": 59,
   "metadata": {},
   "outputs": [
    {
     "name": "stdout",
     "output_type": "stream",
     "text": [
      "{'cat', 'deer', 'lion', 'dog'}\n",
      "None\n",
      "{'lion', 'g', 'dog', 'i', 't', 'deer', 'r', 'cat', 'e'}\n"
     ]
    }
   ],
   "source": [
    "animals={\"cat\", \"lion\", \"deer\", \"dog\"}\n",
    "print(animals)\n",
    "print(animals.update(\"tiger\"))\n",
    "print(animals)"
   ]
  },
  {
   "cell_type": "markdown",
   "metadata": {},
   "source": [
    "# Symmetric Difference Function:"
   ]
  },
  {
   "cell_type": "code",
   "execution_count": 66,
   "metadata": {},
   "outputs": [
    {
     "name": "stdout",
     "output_type": "stream",
     "text": [
      "{'cat', 'deer', 'lion', 'dog'}\n",
      "{'g', 'lion', 'dog', 'd', 'o', 'deer', 'cat'}\n",
      "{'cat', 'deer', 'lion', 'dog'}\n"
     ]
    }
   ],
   "source": [
    "animals={\"cat\", \"lion\", \"deer\", \"dog\"}\n",
    "print(animals)\n",
    "\n",
    "print(animals.symmetric_difference(\"dog\"))\n",
    "print(animals)"
   ]
  },
  {
   "cell_type": "markdown",
   "metadata": {},
   "source": [
    "# Symmetric_Difference_Update Function:"
   ]
  },
  {
   "cell_type": "code",
   "execution_count": 67,
   "metadata": {},
   "outputs": [
    {
     "name": "stdout",
     "output_type": "stream",
     "text": [
      "{'cat', 'deer', 'lion', 'dog'}\n",
      "None\n",
      "{'lion', 'g', 'dog', 'd', 'o', 'deer', 'cat'}\n"
     ]
    }
   ],
   "source": [
    "animals={\"cat\", \"lion\", \"deer\", \"dog\"}\n",
    "print(animals)\n",
    "print(animals.symmetric_difference_update(\"dog\"))\n",
    "print(animals)"
   ]
  }
 ],
 "metadata": {
  "kernelspec": {
   "display_name": "base",
   "language": "python",
   "name": "python3"
  },
  "language_info": {
   "codemirror_mode": {
    "name": "ipython",
    "version": 3
   },
   "file_extension": ".py",
   "mimetype": "text/x-python",
   "name": "python",
   "nbconvert_exporter": "python",
   "pygments_lexer": "ipython3",
   "version": "3.10.9"
  },
  "orig_nbformat": 4
 },
 "nbformat": 4,
 "nbformat_minor": 2
}
