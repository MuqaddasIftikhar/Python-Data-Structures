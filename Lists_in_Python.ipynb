{
 "cells": [
  {
   "cell_type": "markdown",
   "metadata": {},
   "source": [
    "# Lists in Python"
   ]
  },
  {
   "cell_type": "code",
   "execution_count": 5,
   "metadata": {},
   "outputs": [
    {
     "name": "stdout",
     "output_type": "stream",
     "text": [
      "['Jenny', 'John', 'Harry']\n",
      "<class 'list'>\n",
      "3\n"
     ]
    }
   ],
   "source": [
    "names=[\"Jenny\", \"John\", \"Harry\"]\n",
    "print(names)\n",
    "print(type(names))\n",
    "print(len(names))"
   ]
  },
  {
   "cell_type": "code",
   "execution_count": 12,
   "metadata": {},
   "outputs": [
    {
     "name": "stdout",
     "output_type": "stream",
     "text": [
      "['Cat', 'Dog', 'Lion', 'Tiger', 'Deer', 'Rabbit', 'Turtle']\n",
      "<class 'list'>\n",
      "7\n",
      "Cat\n",
      "Dog\n",
      "['Cat', 'Dog', 'Lion', 'Tiger', 'Deer', 'Rabbit', 'Turtle']\n"
     ]
    }
   ],
   "source": [
    "animals=[\"Cat\", \"Dog\", \"Lion\", \"Tiger\", \"Deer\", \"Rabbit\", \"Turtle\"]\n",
    "print(animals)\n",
    "print(type(animals))\n",
    "print(len(animals))\n",
    "print(animals[0])\n",
    "print(animals[1])\n",
    "print(animals[0:])"
   ]
  },
  {
   "cell_type": "markdown",
   "metadata": {},
   "source": [
    "# Append Function:"
   ]
  },
  {
   "cell_type": "code",
   "execution_count": 18,
   "metadata": {},
   "outputs": [
    {
     "name": "stdout",
     "output_type": "stream",
     "text": [
      "['Jenny', 'John', 'Harry']\n",
      "<class 'list'>\n",
      "3\n",
      "['Jenny', 'John', 'Harry']\n",
      "None\n",
      "['Jenny', 'John', 'Harry', 'Richard']\n"
     ]
    }
   ],
   "source": [
    "names=[\"Jenny\", \"John\", \"Harry\"]\n",
    "print(names)\n",
    "print(type(names))\n",
    "print(len(names))\n",
    "print(names[0:])\n",
    "print(names.append(\"Richard\"))\n",
    "print(names)"
   ]
  },
  {
   "cell_type": "markdown",
   "metadata": {},
   "source": [
    "# Clear Function:"
   ]
  },
  {
   "cell_type": "code",
   "execution_count": 23,
   "metadata": {},
   "outputs": [
    {
     "name": "stdout",
     "output_type": "stream",
     "text": [
      "['Jenny', 'John', 'Harry']\n",
      "None\n",
      "[]\n"
     ]
    }
   ],
   "source": [
    "names=[\"Jenny\", \"John\", \"Harry\"]\n",
    "print(names)\n",
    "print(names.clear())\n",
    "print(names)"
   ]
  },
  {
   "cell_type": "markdown",
   "metadata": {},
   "source": [
    "# Copy Function:"
   ]
  },
  {
   "cell_type": "code",
   "execution_count": 24,
   "metadata": {},
   "outputs": [
    {
     "name": "stdout",
     "output_type": "stream",
     "text": [
      "['Jenny', 'John', 'Harry']\n",
      "['Jenny', 'John', 'Harry']\n",
      "['Jenny', 'John', 'Harry']\n"
     ]
    }
   ],
   "source": [
    "names=[\"Jenny\", \"John\", \"Harry\"]\n",
    "print(names)\n",
    "print(names.copy())\n",
    "print(names)"
   ]
  },
  {
   "cell_type": "markdown",
   "metadata": {},
   "source": [
    "# Count Function:"
   ]
  },
  {
   "cell_type": "code",
   "execution_count": 30,
   "metadata": {},
   "outputs": [
    {
     "name": "stdout",
     "output_type": "stream",
     "text": [
      "['Jenny', 'John', 'Harry']\n",
      "1\n",
      "['Jenny', 'John', 'Harry']\n"
     ]
    }
   ],
   "source": [
    "names=[\"Jenny\", \"John\", \"Harry\"]\n",
    "print(names)\n",
    "print(names.count(\"Jenny\"))\n",
    "print(names)"
   ]
  },
  {
   "cell_type": "markdown",
   "metadata": {},
   "source": [
    "# Extend Function:"
   ]
  },
  {
   "cell_type": "code",
   "execution_count": 33,
   "metadata": {},
   "outputs": [
    {
     "name": "stdout",
     "output_type": "stream",
     "text": [
      "['Jenny', 'John', 'Harry']\n",
      "None\n",
      "['Jenny', 'John', 'Harry', 'J', 'e', 'n', 'n', 'y']\n"
     ]
    }
   ],
   "source": [
    "names=[\"Jenny\", \"John\", \"Harry\"]\n",
    "print(names)\n",
    "print(names.extend(\"Jenny\"))\n",
    "print(names)"
   ]
  },
  {
   "cell_type": "markdown",
   "metadata": {},
   "source": [
    "# Index Function:"
   ]
  },
  {
   "cell_type": "code",
   "execution_count": 37,
   "metadata": {},
   "outputs": [
    {
     "name": "stdout",
     "output_type": "stream",
     "text": [
      "['Jenny', 'John', 'Harry']\n",
      "0\n"
     ]
    }
   ],
   "source": [
    "names=[\"Jenny\", \"John\", \"Harry\"]\n",
    "print(names)\n",
    "print(names.index(\"Jenny\"))\n"
   ]
  },
  {
   "cell_type": "markdown",
   "metadata": {},
   "source": [
    "# Insert Function:"
   ]
  },
  {
   "cell_type": "code",
   "execution_count": 42,
   "metadata": {},
   "outputs": [
    {
     "name": "stdout",
     "output_type": "stream",
     "text": [
      "['Jenny', 'John', 'Harry']\n"
     ]
    },
    {
     "ename": "TypeError",
     "evalue": "'str' object cannot be interpreted as an integer",
     "output_type": "error",
     "traceback": [
      "\u001b[1;31m---------------------------------------------------------------------------\u001b[0m",
      "\u001b[1;31mTypeError\u001b[0m                                 Traceback (most recent call last)",
      "Cell \u001b[1;32mIn[42], line 3\u001b[0m\n\u001b[0;32m      1\u001b[0m names\u001b[39m=\u001b[39m[\u001b[39m\"\u001b[39m\u001b[39mJenny\u001b[39m\u001b[39m\"\u001b[39m, \u001b[39m\"\u001b[39m\u001b[39mJohn\u001b[39m\u001b[39m\"\u001b[39m, \u001b[39m\"\u001b[39m\u001b[39mHarry\u001b[39m\u001b[39m\"\u001b[39m]\n\u001b[0;32m      2\u001b[0m \u001b[39mprint\u001b[39m(names)\n\u001b[1;32m----> 3\u001b[0m \u001b[39mprint\u001b[39m(names\u001b[39m.\u001b[39;49minsert(\u001b[39m\"\u001b[39;49m\u001b[39mJenny\u001b[39;49m\u001b[39m\"\u001b[39;49m, \u001b[39m\"\u001b[39;49m\u001b[39mHarry\u001b[39;49m\u001b[39m\"\u001b[39;49m))\n\u001b[0;32m      4\u001b[0m \u001b[39mprint\u001b[39m(names)\n",
      "\u001b[1;31mTypeError\u001b[0m: 'str' object cannot be interpreted as an integer"
     ]
    }
   ],
   "source": [
    "names=[\"Jenny\", \"John\", \"Harry\"]\n",
    "print(names)\n",
    "print(names.insert(\"Jenny\", \"Harry\"))\n",
    "print(names)"
   ]
  },
  {
   "cell_type": "markdown",
   "metadata": {},
   "source": [
    "# Pop Function:"
   ]
  },
  {
   "cell_type": "code",
   "execution_count": 46,
   "metadata": {},
   "outputs": [
    {
     "name": "stdout",
     "output_type": "stream",
     "text": [
      "['Jenny', 'John', 'Harry']\n",
      "Harry\n",
      "['Jenny', 'John']\n"
     ]
    }
   ],
   "source": [
    "names=[\"Jenny\", \"John\", \"Harry\"]\n",
    "print(names)\n",
    "print(names.pop())\n",
    "print(names)"
   ]
  },
  {
   "cell_type": "markdown",
   "metadata": {},
   "source": [
    "# Remove Function:"
   ]
  },
  {
   "cell_type": "code",
   "execution_count": 48,
   "metadata": {},
   "outputs": [
    {
     "name": "stdout",
     "output_type": "stream",
     "text": [
      "['Jenny', 'John', 'Harry']\n",
      "None\n",
      "['John', 'Harry']\n"
     ]
    }
   ],
   "source": [
    "names=[\"Jenny\", \"John\", \"Harry\"]\n",
    "print(names)\n",
    "print(names.remove(\"Jenny\"))\n",
    "print(names)"
   ]
  },
  {
   "cell_type": "markdown",
   "metadata": {},
   "source": [
    "# Reverse Function:"
   ]
  },
  {
   "cell_type": "code",
   "execution_count": 50,
   "metadata": {},
   "outputs": [
    {
     "name": "stdout",
     "output_type": "stream",
     "text": [
      "['Jenny', 'John', 'Harry']\n",
      "None\n",
      "['Harry', 'John', 'Jenny']\n"
     ]
    }
   ],
   "source": [
    "names=[\"Jenny\", \"John\", \"Harry\"]\n",
    "print(names)\n",
    "print(names.reverse())\n",
    "print(names)"
   ]
  },
  {
   "cell_type": "markdown",
   "metadata": {},
   "source": [
    "# Sort Function:"
   ]
  },
  {
   "cell_type": "code",
   "execution_count": 51,
   "metadata": {},
   "outputs": [
    {
     "name": "stdout",
     "output_type": "stream",
     "text": [
      "['Jenny', 'John', 'Harry']\n",
      "None\n",
      "['Harry', 'Jenny', 'John']\n"
     ]
    }
   ],
   "source": [
    "names=[\"Jenny\", \"John\", \"Harry\"]\n",
    "print(names)\n",
    "print(names.sort())\n",
    "print(names)"
   ]
  }
 ],
 "metadata": {
  "kernelspec": {
   "display_name": "base",
   "language": "python",
   "name": "python3"
  },
  "language_info": {
   "codemirror_mode": {
    "name": "ipython",
    "version": 3
   },
   "file_extension": ".py",
   "mimetype": "text/x-python",
   "name": "python",
   "nbconvert_exporter": "python",
   "pygments_lexer": "ipython3",
   "version": "3.10.9"
  },
  "orig_nbformat": 4
 },
 "nbformat": 4,
 "nbformat_minor": 2
}
